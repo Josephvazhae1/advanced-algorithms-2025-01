{
 "cells": [
  {
   "cell_type": "markdown",
   "id": "20f94e96",
   "metadata": {},
   "source": [
    "\n",
    "# Linear Programming Lab\n",
    "\n",
    "## Total: 40 points\n",
    "\n",
    "In this lab, you will explore a useful extension of linear programming duality (covered in class\n",
    "LP Day 1) called linear programming sensitivity analysis. Here, we aim to find:\n",
    "\n",
    "- How does the solution change when the objective function changes?\n",
    "- How does the solution change when the resource limits change?\n",
    "- How does the solution change when a constraint is added to the problem?\n",
    "\n",
    "One approach to these types of questions is solving lots of slightly different linear programming problems. This method would work, but it is inelegant and (for large problems) computationally expensive (but in most cases today, computation is cheap and computing solutions to many problems is a standard technique to study sensitivity in practice). However, there is a more elegant solution\n",
    "that gives these answers just by examining the dual information provided by the Simplex Algorithm.\n",
    "\n",
    "**Consider the following scenario:** An instrument company makes trombones and trumpets. A trombone requires 40 square inches of metal sheet and a trumpet requires 30 square inches of metal. Metal costs $1 per square inch and 40,000 square inches are available. It takes two hours of skilled labor to make a novice quality trombone or a novice quality trumpet. Three more hours of skilled labor will turn a novice quality trombone into a professional trombone. Two more hours of skilled labor will turn a novice quality trumpet into a professional trumpet. There are 6000 hours of skilled labor available. Assume that you do not need to pay for labor. Assume that you can sell fractional trombones and trumpets. The market selling prices and production costs are given in the following table:\n",
    "\n",
    "| Product    | Market Price | Cost (metal $1/sq.in.) |\n",
    "| -------- | ------- | ------- |\n",
    "| Novice Trombone | $70 | $40 |\n",
    "| Professional Trombone | $140 | $40 |\n",
    "| Novice Trumpet | $60 | $30 |\n",
    "| Professional Trumpet | $110 | $30 |\n",
    "\n",
    "---\n"
   ]
  },
  {
   "cell_type": "markdown",
   "id": "8c34dead",
   "metadata": {},
   "source": [
    "# Problem 1: Formulate the LP (5 points)\n",
    "## 1a: Set up the LP (3 points)\n",
    "\n",
    "Write an objective function that maximizes profits (market price - production\n",
    "costs) and all constraints.\n",
    "\n",
    "### Instructions\n",
    "- Write the equations, using LaTeX, between the $$ tags. Then convert the LP problem into code by referring to this documentation: [PuLP Guide](https://realpython.com/linear-programming-python/#using-pulp)"
   ]
  },
  {
   "cell_type": "markdown",
   "id": "c30746dd",
   "metadata": {},
   "source": [
    "### Solution:\n",
<<<<<<< HEAD
    "Objective Function: Z  =    $(70 - 40)x_1 + (140 - 40)x_2 + (60-30)x_3 + (110 - 30)x_4$\n",
    "\n",
    "Constraints:\n",
    "- Metal usage constraint: $40000 = 40(x_1 + x_2) + 30$(x_3 + x_4)$\n",
    "- Labor usage constraint: $6000 = 2(x_1 + x_3) + 5x_2 + 4x_4$\n",
    "- Non-negativity constraint: $x_1, x_2, x_3, x_4 \\geq 0$"
=======
    "Objective Function: $$ Z =   $$\n",
    "Constraints:\n",
    "- Metal usage constraint: $$  $$\n",
    "- Labor usage constraint: $$  $$\n",
    "- Non-negativity constraint: $$  $$"
>>>>>>> f57d612b6341f4b7dddfc736dde88e15fa156337
   ]
  },
  {
   "cell_type": "code",
<<<<<<< HEAD
   "execution_count": 7,
=======
   "execution_count": 16,
>>>>>>> f57d612b6341f4b7dddfc736dde88e15fa156337
   "id": "592d8519",
   "metadata": {},
   "outputs": [],
   "source": [
    "from pulp import LpMaximize, LpProblem, LpVariable, LpStatus, PULP_CBC_CMD\n",
<<<<<<< HEAD
    "import matplotlib.pyplot as plt\n",
    "import numpy as np\n",
=======
>>>>>>> f57d612b6341f4b7dddfc736dde88e15fa156337
    "import copy\n",
    "\n",
    "# Define the problem\n",
    "main_model = LpProblem(name=\"instrument-production\", sense=LpMaximize) # (please do not rename this variable as it's used later in the notebook)\n",
    "\n",
    "# Define variables\n",
    "x1 = LpVariable(name=\"x1\", lowBound=0)  # Novice Trombone\n",
    "x2 = LpVariable(name=\"x2\", lowBound=0)  # Professional Trombone\n",
    "x3 = LpVariable(name=\"x3\", lowBound=0)  # Novice Trumpet\n",
    "x4 = LpVariable(name=\"x4\", lowBound=0)  # Professional Trumpet\n",
    "\n",
    "# Objective function\n",
    "# TODO: Add objective function\n",
<<<<<<< HEAD
    "main_model += 30 * x1 + 100 * x2 + 30 * x3 + 80 * x4\n",
=======
>>>>>>> f57d612b6341f4b7dddfc736dde88e15fa156337
    "\n",
    "# Constraints\n",
    "# 1. Total metal sheet used\n",
    "# TODO: Add constraint\n",
<<<<<<< HEAD
    "main_model += (40 *x1 + 40*x2 + 30 *x3 + 30*x4 <= 40000, \"Metal_Constraint\")\n",
    "\n",
    "# 2. Total skilled labor hours used\n",
    "# TODO: Add constraint\n",
    "main_model += (2 * x1 + 5 * x2 + 2 * x3 + 4* x4 <= 6000, \"Labor_Constraint\")\n",
=======
    "\n",
    "# 2. Total skilled labor hours used\n",
    "# TODO: Add constraint\n",
>>>>>>> f57d612b6341f4b7dddfc736dde88e15fa156337
    "\n",
    "# 3. Non-negativity constraints (already enforced by lowBound=0 in variable definition)"
   ]
  },
  {
   "cell_type": "markdown",
   "id": "e1fa5efc",
   "metadata": {},
   "source": [
    "## 1b) Solve the LP Computationally (1 point)\n",
    "Use the model we created above to find the optimal profit. Run the code block below to solve the problem."
   ]
  },
  {
   "cell_type": "markdown",
   "id": "b8ee79ad",
   "metadata": {},
   "source": [
    "### Solution:\n",
    "\n",
    "Optimal Profit: $"
   ]
  },
  {
   "cell_type": "code",
<<<<<<< HEAD
   "execution_count": 2,
   "id": "a1e36d90",
   "metadata": {},
   "outputs": [
    {
     "name": "stdout",
     "output_type": "stream",
     "text": [
      "Welcome to the CBC MILP Solver \n",
      "Version: 2.10.3 \n",
      "Build Date: Dec 15 2019 \n",
      "\n",
      "command line - /home/josephvazhae/anaconda3/lib/python3.12/site-packages/pulp/solverdir/cbc/linux/64/cbc /tmp/f330582e097a4e4d96e6d439d12da8c6-pulp.mps -max -timeMode elapsed -branch -printingOptions all -solution /tmp/f330582e097a4e4d96e6d439d12da8c6-pulp.sol (default strategy 1)\n",
      "At line 2 NAME          MODEL\n",
      "At line 3 ROWS\n",
      "At line 7 COLUMNS\n",
      "At line 20 RHS\n",
      "At line 23 BOUNDS\n",
      "At line 24 ENDATA\n",
      "Problem MODEL has 2 rows, 4 columns and 8 elements\n",
      "Coin0008I MODEL read with 0 errors\n",
      "Option for timeMode changed from cpu to elapsed\n",
      "Presolve 2 (0) rows, 4 (0) columns and 8 (0) elements\n",
      "0  Obj -0 Dual inf 270 (4)\n",
      "0  Obj -0 Dual inf 270 (4)\n",
      "1  Obj 106666.67\n",
      "Optimal - objective value 106666.67\n",
      "Optimal objective 106666.6667 - 1 iterations time 0.002\n",
      "Option for printingOptions changed from normal to all\n",
      "Total time (CPU seconds):       0.00   (Wallclock seconds):       0.00\n",
      "\n"
     ]
    },
    {
     "data": {
      "text/plain": [
       "1"
      ]
     },
     "execution_count": 2,
     "metadata": {},
     "output_type": "execute_result"
    }
   ],
=======
   "execution_count": null,
   "id": "a1e36d90",
   "metadata": {},
   "outputs": [],
>>>>>>> f57d612b6341f4b7dddfc736dde88e15fa156337
   "source": [
    "# Solve the problem\n",
    "main_model.solve()"
   ]
  },
  {
   "cell_type": "markdown",
   "id": "1bc7a7aa",
   "metadata": {},
   "source": [
    "## 1c.) What is the optimal number of each instrument to produce? (1 point)\n",
    "Run the code cell below to find the optimal value for each variable in the model. Fill in the table below.\n",
    "### Solution:\n",
    "\n",
    "| Variable    | Value |\n",
    "| -------- | ------- |\n",
    "| x1 | 0 |\n",
    "| x2 | 0 |\n",
    "| x3 | 0 |\n",
    "| x4 | 0 |"
   ]
  },
  {
   "cell_type": "code",
<<<<<<< HEAD
   "execution_count": 3,
   "id": "7997d85f",
   "metadata": {},
   "outputs": [
    {
     "name": "stdout",
     "output_type": "stream",
     "text": [
      "x1 0.0\n",
      "x2 0.0\n",
      "x3 0.0\n",
      "x4 1333.3333\n"
     ]
    }
   ],
=======
   "execution_count": null,
   "id": "7997d85f",
   "metadata": {},
   "outputs": [],
>>>>>>> f57d612b6341f4b7dddfc736dde88e15fa156337
   "source": [
    "for var in main_model.variables():\n",
    "    print(var.name, var.value())"
   ]
  },
  {
   "cell_type": "markdown",
   "id": "17cfb887",
   "metadata": {},
   "source": [
    "# Problem 2: Sensitivity of Novice Quality Trumpets (5 points)\n",
    "\n",
    "## 2a) (2 points)\n",
    "\n",
    "What would happen if the market price of novice quality trumpets went up? In other words, how much can the market price coefficient in the objective function change without causing the optimal basis to change? This is also called “allowable increase.” You are provided a helper function to find the allowable increase. Try messing with the parameters and looking at the source code in the `helpers.py` file to understand how it works."
   ]
  },
  {
   "cell_type": "markdown",
   "id": "ca1b30dd",
   "metadata": {},
   "source": [
    "### Solution:\n",
    "\n",
<<<<<<< HEAD
    "Yes, novice trumpets would be singificantly more profitable that proffessional trumpets if they were sold for the same amount since they require less labor and material. However, the optimal basis will not change unless it the coefficient increases more than the allowable increase which is 50."
=======
    "---analysis here---"
>>>>>>> f57d612b6341f4b7dddfc736dde88e15fa156337
   ]
  },
  {
   "cell_type": "code",
<<<<<<< HEAD
   "execution_count": 4,
   "id": "21680bc7",
   "metadata": {},
   "outputs": [
    {
     "name": "stdout",
     "output_type": "stream",
     "text": [
      "Iteration 1: Coefficient of x3: 60, Objective value: 106666.664, Solution: {'x1': 0.0, 'x2': 0.0, 'x3': 0.0, 'x4': 1333.3333}\n",
      "----------------------------------------\n",
      "Iteration 2: Coefficient of x3: 65, Objective value: 106666.664, Solution: {'x1': 0.0, 'x2': 0.0, 'x3': 0.0, 'x4': 1333.3333}\n",
      "----------------------------------------\n",
      "Iteration 3: Coefficient of x3: 70, Objective value: 106666.664, Solution: {'x1': 0.0, 'x2': 0.0, 'x3': 0.0, 'x4': 1333.3333}\n",
      "----------------------------------------\n",
      "Iteration 4: Coefficient of x3: 75, Objective value: 106666.664, Solution: {'x1': 0.0, 'x2': 0.0, 'x3': 0.0, 'x4': 1333.3333}\n",
      "----------------------------------------\n",
      "Iteration 5: Coefficient of x3: 80, Objective value: 106666.664, Solution: {'x1': 0.0, 'x2': 0.0, 'x3': 0.0, 'x4': 1333.3333}\n",
      "----------------------------------------\n",
      "Iteration 6: Coefficient of x3: 85, Objective value: 106666.664, Solution: {'x1': 0.0, 'x2': 0.0, 'x3': 0.0, 'x4': 1333.3333}\n",
      "----------------------------------------\n",
      "Iteration 7: Coefficient of x3: 90, Objective value: 106666.664, Solution: {'x1': 0.0, 'x2': 0.0, 'x3': 0.0, 'x4': 1333.3333}\n",
      "----------------------------------------\n",
      "Iteration 8: Coefficient of x3: 95, Objective value: 106666.664, Solution: {'x1': 0.0, 'x2': 0.0, 'x3': 0.0, 'x4': 1333.3333}\n",
      "----------------------------------------\n",
      "Iteration 9: Coefficient of x3: 100, Objective value: 106666.664, Solution: {'x1': 0.0, 'x2': 0.0, 'x3': 0.0, 'x4': 1333.3333}\n",
      "----------------------------------------\n",
      "Iteration 10: Coefficient of x3: 105, Objective value: 106666.664, Solution: {'x1': 0.0, 'x2': 0.0, 'x3': 0.0, 'x4': 1333.3333}\n",
      "----------------------------------------\n",
      "Iteration 11: Coefficient of x3: 110, Objective value: 106666.664, Solution: {'x1': 0.0, 'x2': 0.0, 'x3': 1333.3333, 'x4': 0.0}\n",
      "----------------------------------------\n",
      "Optimal basis changed at coefficient 110.\n",
      "\n",
      "The allowable increase for x3 is: 50\n"
     ]
    },
    {
     "name": "stderr",
     "output_type": "stream",
     "text": [
      "/home/josephvazhae/anaconda3/lib/python3.12/site-packages/pulp/pulp.py:1650: UserWarning: Overwriting previously set objective.\n",
      "  warnings.warn(\"Overwriting previously set objective.\")\n"
     ]
    }
   ],
=======
   "execution_count": null,
   "id": "21680bc7",
   "metadata": {},
   "outputs": [],
>>>>>>> f57d612b6341f4b7dddfc736dde88e15fa156337
   "source": [
    "from helpers import find_allowable_increase\n",
    "# Run the helper to find the allowable increase for x3\n",
    "allowable_increase = find_allowable_increase(base_model=main_model, var_name=\"x3\", base_coef=60, step=5)\n",
    "\n",
    "print(f\"The allowable increase for x3 is: {allowable_increase}\")"
   ]
  },
  {
   "cell_type": "markdown",
   "id": "04e9faf4",
   "metadata": {},
   "source": [
    "## 2b) (2 points)\n",
    "Would novice trumpets be more profitable than professional trumpets to produce if novice trumpets sold for the same amount as professional quality trumpets?"
   ]
  },
  {
   "cell_type": "markdown",
   "id": "e5f111b0",
   "metadata": {},
   "source": [
    "### Solution:\n",
<<<<<<< HEAD
    "No, novice trumpets are not more profitable than professional trumpets if novice trumpets sold for the same amount as professional quality, because labor hours have no effect on the objective function."
=======
    "---analysis here---"
>>>>>>> f57d612b6341f4b7dddfc736dde88e15fa156337
   ]
  },
  {
   "cell_type": "markdown",
   "id": "f8ec6827",
   "metadata": {},
   "source": [
    "## 2c) (1 point)\n",
    "What would change if the price went down?"
   ]
  },
  {
   "cell_type": "markdown",
   "id": "44757e81",
   "metadata": {},
   "source": [
    "### Solution:\n",
<<<<<<< HEAD
    "If the market price went down, that would mean novice trumpets are less profitable to produce, because they would be sold for less but still cost the same."
=======
    "---analysis here---"
>>>>>>> f57d612b6341f4b7dddfc736dde88e15fa156337
   ]
  },
  {
   "cell_type": "markdown",
   "id": "8eca32b7",
   "metadata": {},
   "source": [
    "# Problem 3: Sensitivity of Novice Quality Trombones (5 points)\n",
    "\n",
    "## 3a) (2 points)\n",
    "\n",
    "What would happen if the market price of novice quality trombones went up? In other words, what is the “allowable increase” in the market price of novice quality trombones?\n"
   ]
  },
  {
   "cell_type": "markdown",
   "id": "e8b6a92f",
   "metadata": {},
   "source": [
    "### Solution:\n",
<<<<<<< HEAD
    "If the market price of novice quality trombones went up, that would make them more profitable since they can be sold for more. However, the optimal basis will not change unless the coefficient for x1 increases by more than the allowable increase which is 77."
=======
    "---analysis here---"
>>>>>>> f57d612b6341f4b7dddfc736dde88e15fa156337
   ]
  },
  {
   "cell_type": "code",
<<<<<<< HEAD
   "execution_count": 5,
   "id": "96bdc967",
   "metadata": {},
   "outputs": [
    {
     "name": "stdout",
     "output_type": "stream",
     "text": [
      "Optimal basis changed at coefficient 137.\n",
      "\n",
      "The allowable increase for x1 is: 77\n"
     ]
    }
   ],
=======
   "execution_count": null,
   "id": "96bdc967",
   "metadata": {},
   "outputs": [],
>>>>>>> f57d612b6341f4b7dddfc736dde88e15fa156337
   "source": [
    "from helpers import find_allowable_increase\n",
    "\n",
    "# setting verbose to False since we take smaller steps for this variable and don't want to print every iteration\n",
    "allowable_increase = find_allowable_increase(base_model=main_model, var_name=\"x1\", base_coef=60, step=1, max_iter=100, verbose=False)\n",
    "\n",
    "print(f\"The allowable increase for x1 is: {allowable_increase}\")"
   ]
  },
  {
   "cell_type": "markdown",
   "id": "6704a335",
   "metadata": {},
   "source": [
    "## 3b) (3 points)\n",
    "Would they be profitable to produce if they sold for the same amount as professional quality trombones? What would make them profitable to produce (intuitive explanation is expected, not specific numbers)?"
   ]
  },
  {
   "cell_type": "markdown",
   "id": "88a39c0e",
   "metadata": {},
   "source": [
    "### Solution:\n",
    "\n",
<<<<<<< HEAD
    "If they sell novice trombones for the same price as professional quality tombones, the novice trombones will be equally as profitable as the the professionable trombones because labor hours have no impact on the objective function and the metal cost is the same."
=======
    "---analysis here---"
>>>>>>> f57d612b6341f4b7dddfc736dde88e15fa156337
   ]
  },
  {
   "cell_type": "markdown",
   "id": "f37755c5",
   "metadata": {},
   "source": [
    "# Problem 4: Sensitivity of Professional Quality Trumpets (2 points)\n",
    "\n",
    "What would happen to the optimal solution if the price of professional quality trumpets fell to $100? If there is a change, what would the new production plan and optimal profit be?\n",
    "\n",
    "Provide your analysis and corresponding code below."
   ]
  },
  {
   "cell_type": "markdown",
   "id": "b360bf22",
   "metadata": {},
   "source": [
    "### Solution:\n",
    "\n",
<<<<<<< HEAD
    "If the price of professional quality trumpets fell, that would make them less profitable to produce, which means there should be no change to the production plan or profit.\n"
=======
    "---analysis here---\n"
>>>>>>> f57d612b6341f4b7dddfc736dde88e15fa156337
   ]
  },
  {
   "cell_type": "code",
<<<<<<< HEAD
   "execution_count": 6,
   "id": "bec5fa2c",
   "metadata": {},
   "outputs": [
    {
     "name": "stdout",
     "output_type": "stream",
     "text": [
      "Sensitivity Analysis for Professional Quality Trumpets (Price = $100):\n",
      "Objective value (Profit): 100000.0\n",
      "x1: 0.0\n",
      "x2: 1000.0\n",
      "x3: 0.0\n",
      "x4: 0.0\n"
     ]
    }
   ],
=======
   "execution_count": null,
   "id": "bec5fa2c",
   "metadata": {},
   "outputs": [],
>>>>>>> f57d612b6341f4b7dddfc736dde88e15fa156337
   "source": [
    "low_trumpet_model = LpProblem(name=\"instrument-production\", sense=LpMaximize)\n",
    "\n",
    "# Define variables\n",
    "x1 = LpVariable(name=\"x1\", lowBound=0)  # Novice Trombone\n",
    "x2 = LpVariable(name=\"x2\", lowBound=0)  # Professional Trombone\n",
    "x3 = LpVariable(name=\"x3\", lowBound=0)  # Novice Trumpet\n",
    "x4 = LpVariable(name=\"x4\", lowBound=0)  # Professional Trumpet\n",
    "\n",
    "# TODO: Re-define Objective function\n",
<<<<<<< HEAD
    "low_trumpet_model += 30 * x1 + 100 * x2 + 30 * x3 + 70 * x4\n",
=======
    "low_trumpet_model += \n",
>>>>>>> f57d612b6341f4b7dddfc736dde88e15fa156337
    "\n",
    "# Constraints\n",
    "low_trumpet_model += 40 * x1 + 40 * x2 + 30 * x3 + 30 * x4 <= 40000, \"Metal Sheet Constraint\"\n",
    "low_trumpet_model += 2 * x1 + 5 * x2 + 2 * x3 + 4 * x4 <= 6000, \"Skilled Labor Constraint\"\n",
    "\n",
    "# Solve the low_trumpet_model\n",
    "low_trumpet_model.solve(PULP_CBC_CMD(msg=0))\n",
    "\n",
    "# Display results\n",
    "print(\"Sensitivity Analysis for Professional Quality Trumpets (Price = $100):\")\n",
    "print(f\"Objective value (Profit): {low_trumpet_model.objective.value()}\")\n",
    "for var in low_trumpet_model.variables():\n",
    "    print(f\"{var.name}: {var.value()}\")"
   ]
  },
  {
   "cell_type": "markdown",
<<<<<<< HEAD
   "id": "418021a8",
=======
>>>>>>> f57d612b6341f4b7dddfc736dde88e15fa156337
   "metadata": {},
   "source": [
    "# Problem 5: Sensitivity of Metal Resources (8 points)\n",
    "\n",
    "## 5a) (4 points)\n",
    "How do production plans change when metal supplies change? At which point does metal stop being a limiting resource and how do you know?\n",
    "\n",
    "**HINT**: To find out how the production plans change when metal supplies change, you can use a **guess-and-check approach**. \n",
    "\n",
    "1. Start with the current RHS of the \"Metal Sheet Constraint\" (40,000 square inches).\n",
    "2. Gradually increase or decrease the RHS (e.g., by 1,000 or 5,000 units at a time).\n",
    "3. For each adjustment:\n",
    "   - Re-run to solve the problem and record the production plan (values of x_1, x_2, x_3, x_4) and the total profit.\n",
    "   - Compare the new solution to the original solution (at RHS = 40,000).\n",
    "4. Stop increasing when you notice the production plan has stopped changing. The last RHS value before the variable values stop changing is the **RHS Tolerance Upper Bound**.\n",
    "5. Stop decreasing when the model becomes infeasible. The last RHS value before the model becomes infeasible is the **RHS Tolerance Lower Bound**."
   ]
  },
  {
   "cell_type": "markdown",
   "id": "cb50a10c",
   "metadata": {},
   "source": [
    "### Solution:\n",
    "\n",
<<<<<<< HEAD
    "\n",
    "RHS Tolerance Upper Bound: 36000\n",
    "RHS Tolerance Lower Bound: 0"
=======
    "---analysis here---"
>>>>>>> f57d612b6341f4b7dddfc736dde88e15fa156337
   ]
  },
  {
   "cell_type": "code",
<<<<<<< HEAD
   "execution_count": 7,
   "id": "ebf988d0",
   "metadata": {},
   "outputs": [
    {
     "name": "stdout",
     "output_type": "stream",
     "text": [
      "Initial Solution:\n",
      "Total Profit: $106666.66\n",
      "Production Plan:\n",
      "  x1: 0.0\n",
      "  x2: 0.0\n",
      "  x3: 0.0\n",
      "  x4: 1333.3333\n",
      "\n",
      "Slack Values for Constraints:\n",
      "  Metal_Constraint: RHS = -40000, slack = -0.0\n",
      "  Labor_Constraint: RHS = -6000, slack = 666.6666999999998\n",
      "---------------------------------------------\n",
      "After Adjusting Metal Sheet Constraint:\n",
      "Model Solution Status: Optimal\n",
      "Total Profit: $96000.00\n",
      "Production Plan:\n",
      "  x1: 0.0\n",
      "  x2: 0.0\n",
      "  x3: 0.0\n",
      "  x4: 1200.0\n",
      "\n",
      "Slack Values for Constraints:\n",
      "  Metal_Constraint: RHS = -36000, slack = -0.0\n",
      "  Labor_Constraint: RHS = -6000, slack = 1200.0\n"
     ]
    }
   ],
=======
   "execution_count": null,
   "id": "ebf988d0",
   "metadata": {},
   "outputs": [],
>>>>>>> f57d612b6341f4b7dddfc736dde88e15fa156337
   "source": [
    "rhs_tol_model = copy.deepcopy(main_model)\n",
    "\n",
    "# Print the results\n",
    "print(\"Initial Solution:\")\n",
    "print(f\"Total Profit: ${rhs_tol_model.objective.value():.2f}\")\n",
    "print(\"Production Plan:\")\n",
    "for var in rhs_tol_model.variables():\n",
    "    print(f\"  {var.name}: {var.varValue}\")\n",
    "\n",
    "# Check slack for each constraint\n",
    "print(\"\\nSlack Values for Constraints:\")\n",
    "for name, constraint in rhs_tol_model.constraints.items():\n",
    "    print(f\"  {name}: RHS = {constraint.constant}, slack = {constraint.slack}\")\n",
    "\n",
    "# ---------------------------------------------\n",
    "# Guess-and-Check Setup\n",
    "# ---------------------------------------------\n",
    "# Change the RHS of the \"Metal Sheet Constraint\" below and re-run this block of code.\n",
<<<<<<< HEAD
    "rhs_tol_model.constraints[\"Metal_Constraint\"].changeRHS(36000)  # TODO: Change this value\n",
=======
    "rhs_tol_model.constraints[\"Metal_Sheet_Constraint\"].changeRHS(45000)  # TODO: Change this value\n",
>>>>>>> f57d612b6341f4b7dddfc736dde88e15fa156337
    "\n",
    "print(\"---------------------------------------------\")\n",
    "print(\"After Adjusting Metal Sheet Constraint:\")\n",
    "\n",
    "# Re-solve the problem\n",
    "rhs_tol_model.solve(PULP_CBC_CMD(msg=0))\n",
    "print(f\"Model Solution Status: {LpStatus[rhs_tol_model.status]}\")\n",
    "\n",
    "# Print updated results\n",
    "print(f\"Total Profit: ${rhs_tol_model.objective.value():.2f}\")\n",
    "print(\"Production Plan:\")\n",
    "for var in rhs_tol_model.variables():\n",
    "    print(f\"  {var.name}: {var.varValue}\")\n",
    "\n",
    "# Check slack for each constraint\n",
    "print(\"\\nSlack Values for Constraints:\")\n",
    "for name, constraint in rhs_tol_model.constraints.items():\n",
    "    print(f\"  {name}: RHS = {constraint.constant}, slack = {constraint.slack}\")"
   ]
  },
  {
   "cell_type": "markdown",
   "id": "2f8cd676",
   "metadata": {},
   "source": [
    "## 5b) (4 points)\n",
    "**What is the shadow price of metal?**  \n",
    "1. Explain the concept of a shadow price in the context of the \"Metal Sheet Constraint\" and how it impacts the objective function (profit).  \n",
    "2. Using the shadow price, calculate how much the profit is expected to change if the metal supplies increase by 500 square inches.  \n",
    "3. Solve the problem again with the increased metal supplies and verify the expected profit change and the new production plan.\n",
    "\n",
    "Use the following formula for profit change:  \n",
    "$$ \\Delta profit = \\Delta \\text{metal supplies quantity} \\cdot dual_{metal} $$\n",
    "\n",
    "---\n",
    "\n",
    "### HINT\n",
    "\n",
    "1. **What is the Shadow Price?**  \n",
    "   The shadow price (also called the dual value) of a constraint tells you how much the objective value (profit) will change per unit increase in the RHS of the constraint, as long as the change is within the **RHS tolerance interval**.\n",
    "\n",
    "2. **How to Find the Shadow Price?**  \n",
    "   - Solve the LP model with the original RHS.\n",
    "   - Check the **dual value** (`constraint.pi`) of the \"Metal Sheet Constraint\" in the solver's output. This is the shadow price.\n",
    "\n",
    "3. **Useful Methods**\n",
    "   - Use `shadow_model.constraints[\"Metal_Sheet_Constraint\"].changeRHS(new_rhs)` to update the RHS of the \"Metal Sheet Constraint\""
   ]
  },
  {
   "cell_type": "markdown",
   "id": "149ba3eb",
   "metadata": {},
   "source": [
    "### Solution:\n",
    "\n",
    "---analysis here---"
   ]
  },
  {
   "cell_type": "code",
   "execution_count": null,
   "id": "2310a05f",
   "metadata": {},
<<<<<<< HEAD
   "outputs": [
    {
     "name": "stdout",
     "output_type": "stream",
     "text": [
      "Welcome to the CBC MILP Solver \n",
      "Version: 2.10.3 \n",
      "Build Date: Dec 15 2019 \n",
      "\n",
      "command line - /home/josephvazhae/anaconda3/lib/python3.12/site-packages/pulp/solverdir/cbc/linux/64/cbc /tmp/84768e0daeba48efae6af084e0837a02-pulp.mps -max -timeMode elapsed -branch -printingOptions all -solution /tmp/84768e0daeba48efae6af084e0837a02-pulp.sol (default strategy 1)\n",
      "At line 2 NAME          MODEL\n",
      "At line 3 ROWS\n",
      "At line 7 COLUMNS\n",
      "At line 20 RHS\n",
      "At line 23 BOUNDS\n",
      "At line 24 ENDATA\n",
      "Problem MODEL has 2 rows, 4 columns and 8 elements\n",
      "Coin0008I MODEL read with 0 errors\n",
      "Option for timeMode changed from cpu to elapsed\n",
      "Presolve 2 (0) rows, 4 (0) columns and 8 (0) elements\n",
      "0  Obj -0 Dual inf 270 (4)\n",
      "0  Obj -0 Dual inf 270 (4)\n",
      "1  Obj 94666.667\n",
      "Optimal - objective value 94666.667\n",
      "Optimal objective 94666.66667 - 1 iterations time 0.002\n",
      "Option for printingOptions changed from normal to all\n",
      "Total time (CPU seconds):       0.00   (Wallclock seconds):       0.00\n",
      "\n",
      "Shadow Price of Metal: 2.6666667\n",
      "New Profit: $94666.66\n",
      "Production Plan:\n",
      "  x1: 0.0\n",
      "  x2: 0.0\n",
      "  x3: 0.0\n",
      "  x4: 1183.3333\n",
      "Expected Profit Change: 1333.3333499999999\n",
      "Actual Profit Change: 10666.66\n"
     ]
    }
   ],
=======
   "outputs": [],
>>>>>>> f57d612b6341f4b7dddfc736dde88e15fa156337
   "source": [
    "shadow_model = copy.deepcopy(main_model)\n",
    "\n",
    "# TODO: Solve the shadow price problem\n",
    "\n",
<<<<<<< HEAD
    "\n",
    "# TODO: Update RHS\n",
    "new_rhs = 36000 - 500\n",
    "shadow_model.constraints[\"Metal_Constraint\"].changeRHS(new_rhs)\n",
    "\n",
    "# Solve the updated model\n",
    "shadow_model.solve()\n",
    "\n",
    "# Print shadow price (dual value) for metal constraint\n",
    "shadow_price_metal = shadow_model.constraints[\"Metal_Constraint\"].pi\n",
    "print(f\"Shadow Price of Metal: {shadow_price_metal}\")\n",
    "\n",
    "\n",
    "\n",
    "# Display the new results\n",
    "print(f\"New Profit: ${shadow_model.objective.value():.2f}\")\n",
    "print(\"Production Plan:\")\n",
    "for var in shadow_model.variables():\n",
    "    print(f\"  {var.name}: {var.value()}\")\n",
    "\n",
    "print(f\"Expected Profit Change: {500 * shadow_price_metal}\")\n",
    "print(f\"Actual Profit Change: {106666.66 - shadow_model.objective.value():.2f}\")"
=======
    "# TODO: Update RHS\n",
    "\n",
    "# Display the new results\n",
    "print(\"New Results with Increased Metal Supply:\")\n",
    "print(f\"New Profit: {shadow_model.objective.value()}\")\n",
    "print(\"Production Plan:\")\n",
    "for var in shadow_model.variables():\n",
    "    print(f\"  {var.name}: {var.value()}\")"
>>>>>>> f57d612b6341f4b7dddfc736dde88e15fa156337
   ]
  },
  {
   "cell_type": "markdown",
   "id": "adee66b0",
   "metadata": {},
   "source": [
    "# Problem 6: Sensitivity of Labor Resources (5 points)\n",
    "\n",
    "## 6a) (1 point)\n",
    "How much labor is unused?\n",
    "\n",
    "HINT: What is the slack?"
   ]
  },
  {
   "cell_type": "code",
<<<<<<< HEAD
   "execution_count": 16,
   "id": "9d739b21",
   "metadata": {},
   "outputs": [
    {
     "name": "stdout",
     "output_type": "stream",
     "text": [
      "  Metal_Constraint: RHS = -40000, slack = -0.0\n",
      "  Labor_Constraint: RHS = -6000, slack = 666.6666999999998\n"
     ]
    }
   ],
   "source": [
    "for name, constraint in main_model.constraints.items():\n",
    "    print(f\"  {name}: RHS = {constraint.constant}, slack = {constraint.slack}\")"
=======
   "execution_count": null,
   "id": "9d739b21",
   "metadata": {},
   "outputs": [],
   "source": [
    "# TODO"
>>>>>>> f57d612b6341f4b7dddfc736dde88e15fa156337
   ]
  },
  {
   "cell_type": "markdown",
   "id": "b90c54ba",
   "metadata": {},
   "source": [
    "## 6b) (2 points)\n",
    "How much would you be willing to pay an additional laborer?"
   ]
  },
  {
   "cell_type": "markdown",
   "id": "c4bdb9c6",
   "metadata": {},
   "source": [
    "### Solution:\n",
    "\n",
<<<<<<< HEAD
    "You cannot pay an additional labourer more than $20/hr"
   ]
  },
  {
   "cell_type": "code",
   "execution_count": 17,
   "id": "e110ad16",
   "metadata": {},
   "outputs": [
    {
     "name": "stdout",
     "output_type": "stream",
     "text": [
      "-0.0\n"
     ]
    }
   ],
   "source": [
    "shadow_price_labor = main_model.constraints[\"Labor_Constraint\"].pi\n",
    "print(shadow_price_labor)"
=======
    "---analysis here---"
>>>>>>> f57d612b6341f4b7dddfc736dde88e15fa156337
   ]
  },
  {
   "cell_type": "markdown",
   "id": "81eb7c5e",
   "metadata": {},
   "source": [
    "## 6c) (2 points)\n",
    "Suppose that industrial regulation complicate the process so it takes an additional hour of labor to turn a novice quality instrument into a professional quality instrument. How and why does that change affect the optimal production plan and profit?"
   ]
  },
  {
   "cell_type": "markdown",
   "id": "7c448e21",
   "metadata": {},
   "source": [
    "### Solution:\n",
<<<<<<< HEAD
    "That would reduce the profitability of professional instruments. As such the optimal production plane may want more novice instruments."
=======
    "\n",
    "---analysis here---"
>>>>>>> f57d612b6341f4b7dddfc736dde88e15fa156337
   ]
  },
  {
   "cell_type": "markdown",
   "id": "b44af695",
   "metadata": {},
   "source": [
    "# Problem 7: Sensitivity of New Constraint (5 points)\n",
    "\n",
    "## 7a) (4 points)\n",
    "The owner of the company comes up with a design for a beautiful hand-crafted tuba. Each tuba requires 250 hours of labor (6.25 weeks of full time work) and uses 50 square inches of metal. If the\n",
    "company can sell tubas for $200, would it be worthwhile to produce? Use:\n",
    "$$ \\text{(marginal cost of metal)}_{tuba} = \\text{(metal used)}_{tuba} \\cdot dual_{metal} $$\n",
    "\n",
    "Discuss how looking at the shadow prices of metal and labor can help\n",
    "you intuit whether diverting metal resources to tuba production is a good idea. Check your intuition with the solver."
   ]
  },
  {
   "cell_type": "markdown",
   "id": "eb32cc6f",
   "metadata": {},
   "source": [
    "### Solution:\n",
    "\n",
<<<<<<< HEAD
    "Tubas are profitable to produce. If the shadow price of metal and labor combined is greater than $200, the tuba would likely not be profitable to produce."
=======
    "---analysis here---"
>>>>>>> f57d612b6341f4b7dddfc736dde88e15fa156337
   ]
  },
  {
   "cell_type": "code",
<<<<<<< HEAD
   "execution_count": 11,
   "id": "88769b7e",
   "metadata": {},
   "outputs": [
    {
     "name": "stdout",
     "output_type": "stream",
     "text": [
      "Welcome to the CBC MILP Solver \n",
      "Version: 2.10.3 \n",
      "Build Date: Dec 15 2019 \n",
      "\n",
      "command line - /home/josephvazhae/anaconda3/lib/python3.12/site-packages/pulp/solverdir/cbc/linux/64/cbc /tmp/543c12aee32849d28f15cd0f3f6074ef-pulp.mps -max -timeMode elapsed -branch -printingOptions all -solution /tmp/543c12aee32849d28f15cd0f3f6074ef-pulp.sol (default strategy 1)\n",
      "At line 2 NAME          MODEL\n",
      "At line 3 ROWS\n",
      "At line 7 COLUMNS\n",
      "At line 23 RHS\n",
      "At line 26 BOUNDS\n",
      "At line 27 ENDATA\n",
      "Problem MODEL has 2 rows, 5 columns and 10 elements\n",
      "Coin0008I MODEL read with 0 errors\n",
      "Option for timeMode changed from cpu to elapsed\n",
      "Presolve 2 (0) rows, 5 (0) columns and 10 (0) elements\n",
      "0  Obj -0 Dual inf 905.89761 (5)\n",
      "0  Obj -0 Dual inf 905.89761 (5)\n",
      "2  Obj 100102.56\n",
      "Optimal - objective value 100102.56\n",
      "Optimal objective 100102.5641 - 2 iterations time 0.002\n",
      "Option for printingOptions changed from normal to all\n",
      "Total time (CPU seconds):       0.00   (Wallclock seconds):       0.00\n",
      "\n",
      "New Profit: $100102.56\n",
      "Production Plan:\n",
      "  x1: 0.0\n",
      "  x2: 994.87179\n",
      "  x3: 0.0\n",
      "  x4: 0.0\n",
      "  x5: 4.1025641\n"
     ]
    }
   ],
=======
   "execution_count": null,
   "id": "88769b7e",
   "metadata": {},
   "outputs": [],
>>>>>>> f57d612b6341f4b7dddfc736dde88e15fa156337
   "source": [
    "from pulp import LpMaximize, LpProblem, LpVariable, value\n",
    "\n",
    "# Define the problem\n",
    "tuba_model = LpProblem(name=\"instrument-production\", sense=LpMaximize)\n",
    "\n",
    "# Define variables\n",
    "x1 = LpVariable(name=\"x1\", lowBound=0)  # Novice Trombone\n",
    "x2 = LpVariable(name=\"x2\", lowBound=0)  # Professional Trombone\n",
    "x3 = LpVariable(name=\"x3\", lowBound=0)  # Novice Trumpet\n",
    "x4 = LpVariable(name=\"x4\", lowBound=0)  # Professional Trumpet\n",
    "x5 = LpVariable(name=\"x5\", lowBound=0)  # Tubas\n",
    "\n",
<<<<<<< HEAD
    "# Define the problem and analyze the shadow prices\n",
    "# TODO: Define Objective function\n",
    "tuba_model += 30 * x1 + 100 * x2 + 30 * x3 + 70 * x4 + 150*x5\n",
    "\n",
    "# Constraints\n",
    "tuba_model += 40 * x1 + 40 * x2 + 30 * x3 + 30 * x4 + 50*x5 <= 40000, \"Metal_Sheet_Constraint2\"\n",
    "tuba_model += 2 * x1 + 5 * x2 + 2 * x3 + 4 * x4 +250*x5 <= 6000, \"Skilled_Labor_Constraint2\"\n",
    "\n",
    "tuba_model.solve()\n",
    "\n",
    "print(f\"New Profit: ${tuba_model.objective.value():.2f}\")\n",
    "print(\"Production Plan:\")\n",
    "for var in tuba_model.variables():\n",
    "    print(f\"  {var.name}: {var.value()}\")\n"
=======
    "# TODO: Define the problem and analyze the shadow prices"
>>>>>>> f57d612b6341f4b7dddfc736dde88e15fa156337
   ]
  },
  {
   "cell_type": "markdown",
   "id": "d6cda587",
   "metadata": {},
   "source": [
    "## 7b) (1 point)\n",
    "Is it profitable if tubas sell for $150? Why?"
   ]
  },
  {
   "cell_type": "markdown",
   "id": "4aea90da",
   "metadata": {},
   "source": [
    "### Solution:\n",
    "\n",
<<<<<<< HEAD
    "It isn't profitable, because the (50 * shadow price of metal) + 250 * shadow price of labor > 150"
=======
    "---analysis here---"
>>>>>>> f57d612b6341f4b7dddfc736dde88e15fa156337
   ]
  },
  {
   "cell_type": "markdown",
   "id": "da67b98b",
   "metadata": {},
   "source": [
    "# Problem 8: Making Sense of the Dual Problem (5 points)\n",
    "\n",
    "## 8a) (3 points)\n",
    "Set up the original problem’s corresponding dual LP. Write an objective function that maximizes profits (market price - production costs) and all dual constraints."
   ]
  },
  {
   "cell_type": "code",
<<<<<<< HEAD
   "execution_count": 24,
=======
   "execution_count": 26,
>>>>>>> f57d612b6341f4b7dddfc736dde88e15fa156337
   "id": "bacea266",
   "metadata": {},
   "outputs": [],
   "source": [
    "from pulp import LpMinimize, LpProblem, LpVariable\n",
    "\n",
    "# Define the dual problem\n",
    "dual_model = LpProblem(name=\"dual-instrument-production\", sense=LpMinimize)\n",
    "\n",
<<<<<<< HEAD
    "# TODO: Define the dual problem\n",
    "\n",
    "# Define variables\n",
    "y1 = LpVariable(name=\"y1\", lowBound=0)  # Metal Sheet\n",
    "y2 = LpVariable(name=\"y2\", lowBound=0)  # Skilled Labor\n",
    "\n",
    "\n",
    "# Objective function\n",
    "# TODO: Add objective function\n",
    "dual_model += 40000 * y1 + 6000 * y2\n",
    "\n",
    "# Constraints\n",
    "# 1. Novice Tombrone\n",
    "# TODO: Add constraint\n",
    "dual_model += (40 *y1 + 2*y2 >=30, \"Novice Trombone\")\n",
    "\n",
    "# 2. Prof Trombone\n",
    "# TODO: Add constraint\n",
    "dual_model += (40 * y1 + 5 * y2 >= 100, \"Professional Trombone\")\n",
    "\n",
    "# Constraints\n",
    "# 3. Novice Trumpet\n",
    "# TODO: Add constraint\n",
    "dual_model += (30 *y1 + 2*y2 >= 30, \"Novice Trumpet\")\n",
    "\n",
    "# 4. Prof Tryumpet\n",
    "dual_model += (30 *y1 + 4*y2 >= 80, \"Professional Trumpet\")"
=======
    "# TODO: Define the dual problem"
>>>>>>> f57d612b6341f4b7dddfc736dde88e15fa156337
   ]
  },
  {
   "cell_type": "markdown",
   "id": "746316b3",
   "metadata": {},
   "source": [
    "## 8b) (1 point)\n",
    "Run the code block below to solve the problem. What is the optimal profit? Give a plot of the constraints (you can use this [example](https://github.com/hakeemrehman/Python-PuLP-/blob/master/LP%20Using%20PuLP%20and%20Graphical%20Sol..ipynb) for guidance)."
   ]
  },
  {
   "cell_type": "code",
<<<<<<< HEAD
   "execution_count": 23,
   "id": "8fc9d1fd",
   "metadata": {},
   "outputs": [
    {
     "name": "stdout",
     "output_type": "stream",
     "text": [
      "Welcome to the CBC MILP Solver \n",
      "Version: 2.10.3 \n",
      "Build Date: Dec 15 2019 \n",
      "\n",
      "command line - /home/josephvazhae/anaconda3/lib/python3.12/site-packages/pulp/solverdir/cbc/linux/64/cbc /tmp/4e43927f69dd4e8f9a86362f8a8407a3-pulp.mps -timeMode elapsed -branch -printingOptions all -solution /tmp/4e43927f69dd4e8f9a86362f8a8407a3-pulp.sol (default strategy 1)\n",
      "At line 2 NAME          MODEL\n",
      "At line 3 ROWS\n",
      "At line 9 COLUMNS\n",
      "At line 20 RHS\n",
      "At line 25 BOUNDS\n",
      "At line 26 ENDATA\n",
      "Problem MODEL has 4 rows, 2 columns and 8 elements\n",
      "Coin0008I MODEL read with 0 errors\n",
      "Option for timeMode changed from cpu to elapsed\n",
      "Presolve 4 (0) rows, 2 (0) columns and 8 (0) elements\n",
      "0  Obj 0 Primal inf 6.9166663 (4)\n",
      "1  Obj 106666.67\n",
      "Optimal - objective value 106666.67\n",
      "Optimal objective 106666.6667 - 1 iterations time 0.002\n",
      "Option for printingOptions changed from normal to all\n",
      "Total time (CPU seconds):       0.00   (Wallclock seconds):       0.00\n",
      "\n",
      "Dual Problem Results:\n",
      "Optimal Value (Total Resource Value): 106666.66799999999\n"
     ]
    },
    {
     "data": {
      "image/png": "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",
      "text/plain": [
       "<Figure size 640x480 with 1 Axes>"
      ]
     },
     "metadata": {},
     "output_type": "display_data"
    }
   ],
   "source": [
    "# Solve the dual problem\n",
    "dual_model.solve()\n",
    "\n",
    "# Display the results\n",
    "print(\"Dual Problem Results:\")\n",
    "print(f\"Optimal Value (Total Resource Value): {dual_model.objective.value()}\")\n",
    "x = np.arange(0, 10)\n",
    "\n",
    "y2_1 = (30 - 40 * x) / 2  # Novice Trombone\n",
    "y2_2 = (100 - 40 * x) / 5  # Professional Trombone\n",
    "y2_3 = (30 - 30 * x) / 2  # Novice Trumpet\n",
    "y2_4 = (80 - 30 * x) / 4  # Professional Trumpet\n",
    "\n",
    "# # Plot the optimal solution\n",
    "plt.plot(x, y2_1, label = '40 *y1 + 2*y2 >=30')\n",
    "plt.plot(x, y2_2, label= ' 40 * y1 + 5 * y2 >= 100')\n",
    "plt.plot(x, y2_3, label = '30 *y1 + 2*y2 >= 30')\n",
    "plt.plot(x, y2_4, label = '30 *y1 + 4*y2 >= 80')\n",
    "\n",
    "\n",
    "# Labels and limits\n",
    "plt.xlabel(r'Shadow Price of Metal ($y_1$)')\n",
    "plt.ylabel(r'Shadow Price of Labor ($y_2$)')\n",
    "plt.title('Feasible Region for Dual LP')\n",
    "plt.xlim(0, 1.5)\n",
    "plt.ylim(0, 20)\n",
    "plt.legend()\n",
    "\n",
    "# Show the plot\n",
    "plt.show()"
=======
   "execution_count": null,
   "id": "8fc9d1fd",
   "metadata": {},
   "outputs": [],
   "source": [
    "# Solve the dual problem\n",
    "dual_model.solve(PULP_CBC_CMD(msg=0))\n",
    "\n",
    "# Display the results\n",
    "print(\"Dual Problem Results:\")\n",
    "print(f\"Optimal Value (Total Resource Value): {dual_model.objective.value()}\")"
>>>>>>> f57d612b6341f4b7dddfc736dde88e15fa156337
   ]
  },
  {
   "cell_type": "markdown",
   "id": "0043540e",
   "metadata": {},
   "source": [
    "## 8c) (1 point)\n",
<<<<<<< HEAD
    "Say something about the relationship between dual variables and slackness in the primal and dual problem.\n"
=======
    "Say something about the relationship between dual variables and slackness in the primal and dual problem."
>>>>>>> f57d612b6341f4b7dddfc736dde88e15fa156337
   ]
  },
  {
   "cell_type": "markdown",
   "id": "d92f9648",
   "metadata": {},
   "source": [
    "### Solution:\n",
    "\n",
<<<<<<< HEAD
    "\n",
    "There is no slack in both a primal constraint and its associated dual constraint. If slack in primal cosntraint dual is tight - no slack. If slack in dual constraint, primal is tight - no slack."
=======
    "---analysis here---"
>>>>>>> f57d612b6341f4b7dddfc736dde88e15fa156337
   ]
  }
 ],
 "metadata": {
  "kernelspec": {
<<<<<<< HEAD
   "display_name": "base",
=======
   "display_name": "venv",
>>>>>>> f57d612b6341f4b7dddfc736dde88e15fa156337
   "language": "python",
   "name": "python3"
  },
  "language_info": {
   "codemirror_mode": {
    "name": "ipython",
    "version": 3
   },
   "file_extension": ".py",
   "mimetype": "text/x-python",
   "name": "python",
   "nbconvert_exporter": "python",
   "pygments_lexer": "ipython3",
<<<<<<< HEAD
   "version": "3.12.7"
=======
   "version": "3.13.1"
>>>>>>> f57d612b6341f4b7dddfc736dde88e15fa156337
  }
 },
 "nbformat": 4,
 "nbformat_minor": 5
}
